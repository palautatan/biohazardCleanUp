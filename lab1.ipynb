{
 "cells": [
  {
   "cell_type": "markdown",
   "metadata": {},
   "source": [
    "<h1>How to Use My biohazardCleanUp Functions</h1>\n",
    "<p>\n",
    "biohazardCleanUp is a bunch functions and scripts that make some of my lab duties easier and to practice my Python literacy. It is definitely a work in progress, but I plan on curating this repository for a while.\n",
    "<br><br>\n",
    "The scripts I use are in a repository called biohazardCleanUp on my Git. In this tutorial, we'll be going over how to use some of the functions I wrote. <i>Although I used my </i><b><font face=\"courier new\"><font color=\"blue\">stringIn</font></b><i> function in the following functions, I do not recommend it above other functions that do the same thing</i>. These scripts can be found <a href=\"https://github.com/palautatan/biohazardCleanUp\">here</a>, but they are all a work in progress. Since I transition between R and Python, these functions are very similar to R functions to make my transitions between the two languages easy.\n",
    "<br><br>\n",
    "These functions all rely on the os library.\n",
    "</p>"
   ]
  },
  {
   "cell_type": "code",
   "execution_count": 1,
   "metadata": {
    "collapsed": true
   },
   "outputs": [],
   "source": [
    "from os import listdir"
   ]
  },
  {
   "cell_type": "markdown",
   "metadata": {},
   "source": [
    "<p>\n",
    "<b><font color=\"maroon\">In this tutorial, I will be going over an example of how to use Function 1 and Function 2.\n",
    "<br>\n",
    "* The files I will be demonstrating the function usage with are not mine to share, so I will provide screenshots as we go through the tutorial.</font></b>\n",
    "</p>\n",
    "\n",
    "<h2>Starting Off</h2>\n",
    "<p>\n",
    "I will be starting with this directory of files:<br><br>\n",
    "<center>\n",
    "<img src=\"http://oi67.tinypic.com/msgltx.jpg\" width=\"800\">\n",
    "</center>\n",
    "<br>\n",
    "<b>Goal 1</b>: I want to get a list of all the files within this directory, but not the hidden files. This is because all of the files in my directory stand for studies for which I'm including in my research project, and I would like to loop over them in the future. Thus, I will use listdir_nohidden.\n",
    "</p>"
   ]
  },
  {
   "cell_type": "markdown",
   "metadata": {},
   "source": [
    "<h2>Function 1: listdir_nohidden(path)</h2>\n",
    "<p>\n",
    "This function is similar to list.files() in R. Because Python normally lists hidden files under a directory, I wanted to write a function that only gave me the \"unhidden\" files. The parameter is just a path to your directory of interest.\n",
    "</p>"
   ]
  },
  {
   "cell_type": "code",
   "execution_count": 2,
   "metadata": {
    "collapsed": true
   },
   "outputs": [],
   "source": [
    "def listdir_nohidden(path):\n",
    "    files = listdir(path)\n",
    "    files_parsed = []\n",
    "    for file in files:\n",
    "        if not file.startswith('.'):\n",
    "            files_parsed.append(file)\n",
    "    return files_parsed"
   ]
  },
  {
   "cell_type": "markdown",
   "metadata": {},
   "source": [
    "<p>\n",
    "When we call listdir_nohidden on the path to my directory, i.e. <b><font face=\"courier new\"><font color=\"blue\">listdir_nohidden</font>(\"MY_EXTENSION\")</font></b>, we get the following list:\n",
    "<br><br>\n",
    "<center>\n",
    "<img src=\"http://oi64.tinypic.com/35iarrc.jpg\">\n",
    "</center>\n",
    "<br><br>\n",
    "Indeed, now we see all the files within the directory. I will be assigning the name of list to the name <b><font face=\"courier new\">datasets</font></b>,  However, we are also seeing some files that do not stand for datasets, and I would like to remove those from the list created from listdir_nohidden.\n",
    "<br><br>\n",
    "<b>Goal 2</b>: I want to get a list of all the directories within this directory. That is, I do not want to see any .txt or .csv files in my list.\n",
    "</p>"
   ]
  },
  {
   "cell_type": "markdown",
   "metadata": {},
   "source": [
    "<h2>Function 2: directoriesOnly(file_list)</h2>\n",
    "<p>\n",
    "This function takes input as a list of files. Most conveniently, Function 1 creates a list of files, and its output fits the requirements of the parameter of Function 2. <strong>Before running this, you must load in the stringIn function which is below under \"Important Notes\".</strong>\n",
    "</p>\n",
    "\n",
    "<p>\n",
    "stringIn is another function that will not be detailed in this notebook at this time, but stringIn(string1, string2) returns a logical of whether string1 is within string2.\n",
    "</p>"
   ]
  },
  {
   "cell_type": "code",
   "execution_count": 4,
   "metadata": {
    "collapsed": true
   },
   "outputs": [],
   "source": [
    "# gets the directories only\n",
    "def directoriesOnly(file_list):\n",
    "    for file in file_list:\n",
    "        if stringIn(\".csv\", file):\n",
    "            file_list.remove(file)\n",
    "        if stringIn(\".txt\", file):\n",
    "            file_list.remove(file)\n",
    "    return(file_list)"
   ]
  },
  {
   "cell_type": "markdown",
   "metadata": {},
   "source": [
    "<p>\n",
    "This function returns only the directories within the files given in the parameters by removing any file that has .csv or .txt in it. <strong>This function needs to be edited according to what file extensions you would expect in your directory.</strong> I knew that there were only files with .csv or .txt extensions in my specific folders, so I only removed .csv and .txt files. In general, there shouldn't be an innumerable amount of possibilities of extensions, so you can skim through your directory and find the types of files you have in your directory. I assume this to be the case because before doing analyses on data, it must have been curated by your hands or within your knowledge.\n",
    "<br><br>\n",
    "For me, if not for .csv or .txt files, I would normally have .phy, .fasta, or .nex files in there since I normally work with DNA sequence alignments. You could also have some scripts if you don't use a lot of subdirectories for your data in general, thus look out for .R, .py, .cpp, or whatever extensions you may have as residue from coding.\n",
    "</p>\n",
    "\n",
    "<p>\n",
    "To edit the following function, replace the string \"EXTENSION_HERE\" with another possibility of a file extension that may be within your list of files.\n",
    "</p>"
   ]
  },
  {
   "cell_type": "code",
   "execution_count": null,
   "metadata": {
    "collapsed": true
   },
   "outputs": [],
   "source": [
    "if stringIn(\"EXTENSION_HERE\", file):\n",
    "    file_list.remove(file)"
   ]
  },
  {
   "cell_type": "markdown",
   "metadata": {},
   "source": [
    "<p>\n",
    "When I run Function 2 on the list of files produced from Function 1, i.e. <b><font face=\"courier new\"><font color=\"blue\">directoriesOnly</font>(datasets)</font></b>, I receive the following output:\n",
    "<br><br>\n",
    "<center>\n",
    "<img src=\"http://oi67.tinypic.com/2qbyg74.jpg\">\n",
    "</center>\n",
    "<br><br>\n",
    "Thus, voila, Goal 2 has been accomplished. I can now go ahead with whatever loops I want to do with the dataset names.\n",
    "</p>"
   ]
  },
  {
   "cell_type": "markdown",
   "metadata": {},
   "source": [
    "<h2>Important Notes</h2>\n",
    "<p>\n",
    "I will not be providing notes for <b><font face=\"courier new\"><font color=\"blue\">stringIn</font></font></b>, but here is the code for it. It needs to be loaded into your Python environment before you can use Function 2.\n",
    "</p>"
   ]
  },
  {
   "cell_type": "code",
   "execution_count": 3,
   "metadata": {
    "collapsed": true
   },
   "outputs": [],
   "source": [
    "# function that works like grep I guess\n",
    "def stringIn(string1, string2):\n",
    "    \"look for string1 in string2\"\n",
    "    split_up = string1.split()\n",
    "    bools = 0\n",
    "    \n",
    "    # are the characters there at all\n",
    "    for character in split_up:\n",
    "        if character in string2:\n",
    "            continue\n",
    "        else:\n",
    "            return(0)\n",
    "\n",
    "    # get the first match\n",
    "    for i in range(0, len(string1)):\n",
    "        for j in range(0, len(string2)):\n",
    "            if string1[i] == string2[j]:\n",
    "                starting_point = j\n",
    "                break\n",
    "        break\n",
    "    \n",
    "    # see if the rest matches\n",
    "    for k in range(starting_point, (starting_point+len(string1))):\n",
    "        for i in range(0, len(string1)):\n",
    "            if string1[i] == string2[j]:\n",
    "                bools = bools + 1\n",
    "    \n",
    "    if bools==len(string1):\n",
    "        return True\n",
    "    else:\n",
    "        return False"
   ]
  },
  {
   "cell_type": "markdown",
   "metadata": {},
   "source": [
    "<h2>Other biohazardCleanUp Functions</h2>\n",
    "<p>\n",
    "Can be found on my GitHub, <a href=\"https://github.com/palautatan/biohazardCleanUp\">here</a>.\n",
    "</p>"
   ]
  }
 ],
 "metadata": {
  "anaconda-cloud": {},
  "kernelspec": {
   "display_name": "Python [Root]",
   "language": "python",
   "name": "Python [Root]"
  },
  "language_info": {
   "codemirror_mode": {
    "name": "ipython",
    "version": 3
   },
   "file_extension": ".py",
   "mimetype": "text/x-python",
   "name": "python",
   "nbconvert_exporter": "python",
   "pygments_lexer": "ipython3",
   "version": "3.5.2"
  }
 },
 "nbformat": 4,
 "nbformat_minor": 1
}
