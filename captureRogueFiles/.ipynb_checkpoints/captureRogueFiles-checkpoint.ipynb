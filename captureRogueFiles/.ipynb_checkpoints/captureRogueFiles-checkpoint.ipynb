{
 "cells": [
  {
   "cell_type": "markdown",
   "metadata": {},
   "source": [
    "# captureRogueFiles: Match Files with Matchable Names\n",
    "First Edition: 2016-10-19 \n",
    "<br>\n",
    "Last Updated: 2017-04-02\n",
    "\n",
    "## Objectives\n",
    "<ul>\n",
    "<li>Use this script in order to match up \"perfectly named\" files</li>\n",
    "</ul>\n",
    "<br>\n",
    "I used this script to match some of my output scripts into respective folders. I needed it because I accidentally output all my files into a single directory instead of routing them into their own folders. This is a bioinformatics booboo."
   ]
  },
  {
   "cell_type": "code",
   "execution_count": null,
   "metadata": {
    "collapsed": true
   },
   "outputs": [],
   "source": [
    "# LIBRARIES\n",
    "import sys, re\n",
    "from os import listdir\n",
    "from os import makedirs\n",
    "from os import rename\n",
    "from operator import add"
   ]
  },
  {
   "cell_type": "markdown",
   "metadata": {},
   "source": [
    "## 1. Capture Files According to Extension\n",
    "Imagine you have a bunch of junk in your repository, but you only want files with a certain extension. Here's a function that makes a list of the filenames."
   ]
  },
  {
   "cell_type": "code",
   "execution_count": 1,
   "metadata": {
    "collapsed": true
   },
   "outputs": [],
   "source": [
    "# CAPTURE FILES ACCORDING TO AN EXTENSION\n",
    "def capture_ext(directory, extension):\n",
    "    '''\n",
    "    Input: The directory you want to find things in (string), extension required (string)\n",
    "    Output: File names with desired extension (list)\n",
    "    '''\n",
    "    all_files = listdir(directory)\n",
    "    return([x for x in all_files if x.endswith(\".Rev\")])"
   ]
  },
  {
   "cell_type": "markdown",
   "metadata": {},
   "source": [
    "## 2. Main Function: captureRogueFiles\n",
    "In order to use this function, you need to have a listing of folder names you would like. There are several ways to do this."
   ]
  },
  {
   "cell_type": "code",
   "execution_count": null,
   "metadata": {
    "collapsed": true
   },
   "outputs": [],
   "source": [
    "# ONE WAY TO GET THE LISTING OF FOLDER NAMES\n",
    "def generate_folder_names(directory, extension):\n",
    "    '''\n",
    "    Input: The directory you want to find things in (string), extension required (string)\n",
    "    Output: Folder names to use in captureRogueFiles (list)\n",
    "    '''\n",
    "    files = capture_ext(directory, extension)\n",
    "    \n",
    "    # CHOOSE ONE OF THE FOLLOWING LINES\n",
    "    names = set([x[0:6] for x in files]) # TAKES THE FIRST FEW CHARACTERS\n",
    "    names = set([x.split(\"_\")[0] for x in files]) # IF FILE NAMES ARE LIKE: STUDY1_RED, STUDY1_DOTS\n",
    "    \n",
    "    return(list(names))"
   ]
  },
  {
   "cell_type": "markdown",
   "metadata": {},
   "source": [
    "Now, we can finally capture our rogue files! This part is totally under construction. I'll get to fixing this soon. :-) Present Edie isn't that excited about redoing Past Edie's work right now."
   ]
  },
  {
   "cell_type": "code",
   "execution_count": null,
   "metadata": {
    "collapsed": true
   },
   "outputs": [],
   "source": [
    "def captureRogueFiles(directory, extension):\n",
    "    '''\n",
    "    Input: The directory you want to find things in (string), extension required (string)\n",
    "    Output: N/A\n",
    "    '''\n",
    "    \n",
    "    # CREATE FOLDERS ACCORDINGLY\n",
    "    names = generate_folder_names(directory, extension)\n",
    "    # [os.makedirs(directory+x) for x in names]\n",
    "    \n",
    "    # RENAME THE FILES TO MOVE THE FILES OVER"
   ]
  },
  {
   "cell_type": "code",
   "execution_count": null,
   "metadata": {
    "collapsed": true
   },
   "outputs": [],
   "source": [
    "# ## look at the files in rb_files\n",
    "# ## check against the filenames in studies\n",
    "# ## do the files in rb_files have studyname_aic | studyname_bic |studyname_gene | studyname_together \n",
    "# ## | studyname_all_apart | studyname_gene ?\n",
    "\n",
    "# criteria = [\"_aic.Rev\", \"_bic.Rev\", \"_gene.Rev\", \"_together.Rev\", \"_all_apart.Rev\"]\n",
    "\n",
    "# for file in rb_files:\n",
    "#     for study in studies:\n",
    "\n",
    "#         possible_files = list()        \n",
    "#         for criterion in criteria:\n",
    "#             possible_files.append(study+criterion)    \n",
    "        \n",
    "#         if file in possible_files:\n",
    "#             if not os.path.exists(rb_path+study):\n",
    "#                 os.makedirs(rb_path+study)\n",
    "#             os.rename(rb_path+file, rb_path+study+\"/\"+file)\n",
    "#             print(study+\" matches with \"+file)"
   ]
  },
  {
   "cell_type": "markdown",
   "metadata": {},
   "source": [
    "## Future Work\n",
    "<ul>\n",
    "<li>This script does not function if certain files do not exist where they should</li>\n",
    "<li>This script needs to be edited to care/not care if these files do/do not exist</li>\n",
    "</ul>"
   ]
  }
 ],
 "metadata": {
  "kernelspec": {
   "display_name": "Python 2",
   "language": "python",
   "name": "python2"
  },
  "language_info": {
   "codemirror_mode": {
    "name": "ipython",
    "version": 2
   },
   "file_extension": ".py",
   "mimetype": "text/x-python",
   "name": "python",
   "nbconvert_exporter": "python",
   "pygments_lexer": "ipython2",
   "version": "2.7.13"
  }
 },
 "nbformat": 4,
 "nbformat_minor": 2
}
