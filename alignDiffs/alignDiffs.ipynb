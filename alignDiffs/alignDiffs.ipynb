{
 "cells": [
  {
   "cell_type": "markdown",
   "metadata": {},
   "source": [
    "# alignDiffs: Comparing Two Sequence Alignments\n",
    "First Edition: 2016-07-14\n",
    "<br>\n",
    "Last Updated: 2017-04-01\n",
    "\n",
    "## Objectives\n",
    "<ul>\n",
    "<li>Make a program that reads in two species from some alignment</li>\n",
    "<li>We want to know if these species are likely the same species</li>\n",
    "<li>We want to know which alignment has the most information</li>\n",
    "</ul>\n",
    "\n",
    "## Changes Since First Edition\n",
    "My first edition of this function was functional, but was not mathematically clever. Nor was it all that visually appealing. I think you may like what I've got going here if you're able to compare it to the functions I made last summer. I decided to check if two species were the same based on their differences. I made a function that creates a dataframe and compares the dataframes of two subjects sequence alignment."
   ]
  },
  {
   "cell_type": "code",
   "execution_count": 62,
   "metadata": {
    "collapsed": true
   },
   "outputs": [],
   "source": [
    "# LIBRARIES\n",
    "import os\n",
    "import pandas as pd"
   ]
  },
  {
   "cell_type": "markdown",
   "metadata": {},
   "source": [
    "## 1. Indices of All Characters\n",
    "I'm going to get the indices for all the parts of the alignment that don't match. Then, we're going to note whether it is an informative or uninformative character that is not matching."
   ]
  },
  {
   "cell_type": "code",
   "execution_count": 118,
   "metadata": {
    "collapsed": true
   },
   "outputs": [],
   "source": [
    "# START WITH A WHICH-LIKE FUNCTION\n",
    "def which(some_list, criterion):\n",
    "    return([x for x in range(len(some_list)) if some_list[x]==criterion])"
   ]
  },
  {
   "cell_type": "code",
   "execution_count": 308,
   "metadata": {
    "collapsed": false
   },
   "outputs": [],
   "source": [
    "# TRY THIS ON YOUR OWN TIME\n",
    "# which(species.split(\" \")[-1].strip().lower(), \"?\")"
   ]
  },
  {
   "cell_type": "code",
   "execution_count": 303,
   "metadata": {
    "collapsed": false
   },
   "outputs": [],
   "source": [
    "# FUNCTION\n",
    "def make_index_df(sequence):\n",
    "    bases = list(\"atcg\")\n",
    "    base_indices = [which(sequence, x) for x in bases]\n",
    "    a, t, c, g = base_indices[0], base_indices[1], base_indices[2], base_indices[3]\n",
    "    \n",
    "    dash = which(sequence, \"-\")\n",
    "    \n",
    "    ques = which(sequence, \"?\")\n",
    "    \n",
    "    hi = [item for sublist in base_indices for item in sublist] + dash + ques\n",
    "    other = list(set(range(len(sequence)))-set(hi))\n",
    "    \n",
    "    if len(other)<=0:\n",
    "        return(pd.DataFrame([a, t, c, g, dash, ques], index=[\"a\", \"t\", \"c\", \"g\", \"-\", \"?\"]).T)\n",
    "    else:\n",
    "        return(pd.DataFrame([a, t, c, g, dash, ques, other], index=[\"a\", \"t\", \"c\", \"g\", \"-\", \"?\", \"other\"]).T)"
   ]
  },
  {
   "cell_type": "code",
   "execution_count": 304,
   "metadata": {
    "collapsed": false
   },
   "outputs": [],
   "source": [
    "# SAMPLE DATAFRAME\n",
    "sample_df = make_index_df(species.split(\" \")[-1].strip().lower())"
   ]
  },
  {
   "cell_type": "code",
   "execution_count": 307,
   "metadata": {
    "collapsed": false
   },
   "outputs": [
    {
     "data": {
      "text/html": [
       "<div>\n",
       "<table border=\"1\" class=\"dataframe\">\n",
       "  <thead>\n",
       "    <tr style=\"text-align: right;\">\n",
       "      <th></th>\n",
       "      <th>a</th>\n",
       "      <th>t</th>\n",
       "      <th>c</th>\n",
       "      <th>g</th>\n",
       "      <th>-</th>\n",
       "      <th>?</th>\n",
       "    </tr>\n",
       "  </thead>\n",
       "  <tbody>\n",
       "    <tr>\n",
       "      <th>0</th>\n",
       "      <td>25.0</td>\n",
       "      <td>18.0</td>\n",
       "      <td>17.0</td>\n",
       "      <td>16.0</td>\n",
       "      <td>4361.0</td>\n",
       "      <td>0.0</td>\n",
       "    </tr>\n",
       "    <tr>\n",
       "      <th>1</th>\n",
       "      <td>26.0</td>\n",
       "      <td>21.0</td>\n",
       "      <td>34.0</td>\n",
       "      <td>19.0</td>\n",
       "      <td>4362.0</td>\n",
       "      <td>1.0</td>\n",
       "    </tr>\n",
       "    <tr>\n",
       "      <th>2</th>\n",
       "      <td>27.0</td>\n",
       "      <td>23.0</td>\n",
       "      <td>41.0</td>\n",
       "      <td>20.0</td>\n",
       "      <td>4363.0</td>\n",
       "      <td>2.0</td>\n",
       "    </tr>\n",
       "    <tr>\n",
       "      <th>3</th>\n",
       "      <td>29.0</td>\n",
       "      <td>24.0</td>\n",
       "      <td>42.0</td>\n",
       "      <td>22.0</td>\n",
       "      <td>4364.0</td>\n",
       "      <td>3.0</td>\n",
       "    </tr>\n",
       "    <tr>\n",
       "      <th>4</th>\n",
       "      <td>32.0</td>\n",
       "      <td>30.0</td>\n",
       "      <td>48.0</td>\n",
       "      <td>28.0</td>\n",
       "      <td>4365.0</td>\n",
       "      <td>4.0</td>\n",
       "    </tr>\n",
       "    <tr>\n",
       "      <th>5</th>\n",
       "      <td>36.0</td>\n",
       "      <td>31.0</td>\n",
       "      <td>50.0</td>\n",
       "      <td>35.0</td>\n",
       "      <td>4366.0</td>\n",
       "      <td>5.0</td>\n",
       "    </tr>\n",
       "    <tr>\n",
       "      <th>6</th>\n",
       "      <td>40.0</td>\n",
       "      <td>33.0</td>\n",
       "      <td>52.0</td>\n",
       "      <td>39.0</td>\n",
       "      <td>4420.0</td>\n",
       "      <td>6.0</td>\n",
       "    </tr>\n",
       "    <tr>\n",
       "      <th>7</th>\n",
       "      <td>44.0</td>\n",
       "      <td>37.0</td>\n",
       "      <td>53.0</td>\n",
       "      <td>55.0</td>\n",
       "      <td>4421.0</td>\n",
       "      <td>7.0</td>\n",
       "    </tr>\n",
       "    <tr>\n",
       "      <th>8</th>\n",
       "      <td>47.0</td>\n",
       "      <td>38.0</td>\n",
       "      <td>54.0</td>\n",
       "      <td>61.0</td>\n",
       "      <td>4422.0</td>\n",
       "      <td>8.0</td>\n",
       "    </tr>\n",
       "    <tr>\n",
       "      <th>9</th>\n",
       "      <td>49.0</td>\n",
       "      <td>43.0</td>\n",
       "      <td>65.0</td>\n",
       "      <td>70.0</td>\n",
       "      <td>4423.0</td>\n",
       "      <td>9.0</td>\n",
       "    </tr>\n",
       "  </tbody>\n",
       "</table>\n",
       "</div>"
      ],
      "text/plain": [
       "      a     t     c     g       -    ?\n",
       "0  25.0  18.0  17.0  16.0  4361.0  0.0\n",
       "1  26.0  21.0  34.0  19.0  4362.0  1.0\n",
       "2  27.0  23.0  41.0  20.0  4363.0  2.0\n",
       "3  29.0  24.0  42.0  22.0  4364.0  3.0\n",
       "4  32.0  30.0  48.0  28.0  4365.0  4.0\n",
       "5  36.0  31.0  50.0  35.0  4366.0  5.0\n",
       "6  40.0  33.0  52.0  39.0  4420.0  6.0\n",
       "7  44.0  37.0  53.0  55.0  4421.0  7.0\n",
       "8  47.0  38.0  54.0  61.0  4422.0  8.0\n",
       "9  49.0  43.0  65.0  70.0  4423.0  9.0"
      ]
     },
     "execution_count": 307,
     "metadata": {},
     "output_type": "execute_result"
    }
   ],
   "source": [
    "sample_df.head(10)"
   ]
  },
  {
   "cell_type": "markdown",
   "metadata": {},
   "source": [
    "## 2. Main Function: alignDiffs"
   ]
  },
  {
   "cell_type": "code",
   "execution_count": 99,
   "metadata": {
    "collapsed": false
   },
   "outputs": [
    {
     "data": {
      "text/plain": [
       "['Calochlaena_dubia2', 'Calochlaena_dubia']"
      ]
     },
     "execution_count": 99,
     "metadata": {},
     "output_type": "execute_result"
    }
   ],
   "source": [
    "samples = \"/Users/EDIE/Box Sync/GitThings/biohazardCleanUp/alignmentDiffsTesting.txt\"\n",
    "alignment = open(samples, \"r\")\n",
    "lines = alignment.readlines()\n",
    "\n",
    "n = len(lines)\n",
    "species = [x.split(\" \")[0].strip() for x in lines[1:n]]\n",
    "species"
   ]
  },
  {
   "cell_type": "code",
   "execution_count": 102,
   "metadata": {
    "collapsed": false
   },
   "outputs": [
    {
     "data": {
      "text/plain": [
       "['Calochlaena_dubia2', 'Calochlaena_dubia']"
      ]
     },
     "execution_count": 102,
     "metadata": {},
     "output_type": "execute_result"
    }
   ],
   "source": [
    "species[0:2]"
   ]
  },
  {
   "cell_type": "code",
   "execution_count": 298,
   "metadata": {
    "collapsed": false
   },
   "outputs": [],
   "source": [
    "# MAIN FUNCTION\n",
    "def alignDiffs(alignment, how_similar):\n",
    "    '''\n",
    "    Input: 1) Sequence data alignment (.phy file / text file equivalent)\n",
    "           2) Percentage of how molecularly similar two species must be to be the SAME species\n",
    "    Output: Summary of differences in the alignments\n",
    "    '''\n",
    "    \n",
    "    # READ LINES\n",
    "    alignment = open(alignment, \"r\")\n",
    "    lines = alignment.readlines()\n",
    "    n = len(lines)\n",
    "    \n",
    "    # TWO SUBJECTS\n",
    "    species = [x.split(\" \")[0].strip() for x in lines[1:n]]\n",
    "    species = species[0:2]\n",
    "    \n",
    "    # SEQUENCES\n",
    "    sequences = [x.split(\" \")[-1].strip() for x in lines[1:n]]\n",
    "    \n",
    "    # LENGTHS\n",
    "    len1 = len(sequences[0])\n",
    "    len2 = len(sequences[1])\n",
    "    \n",
    "    # CHECK\n",
    "    if len1 != len2:\n",
    "        return 0\n",
    "    \n",
    "    # CHECK FOR SIMILARITY BY COMPARING DATAFRAMES\n",
    "    df1 = make_index_df(sequences[0])\n",
    "    df2 = make_index_df(sequences[1])\n",
    "    \n",
    "    col_names = df1.columns.values\n",
    "    \n",
    "    df1_only = [set(df1[col_names[x]])-set(df2[col_names[x]]) for x in range(len(col_names))]\n",
    "    df1_no_nans = [[x for x in x2 if x==x] for x2 in df1_only]\n",
    "    \n",
    "    df2_only = [set(df2[col_names[x]])-set(df1[col_names[x]]) for x in range(len(col_names))]\n",
    "    df2_no_nans = [[x for x in x2 if x==x] for x2 in df2_only]\n",
    "    \n",
    "    # FOR VISUAL APPEAL\n",
    "    diff_df = pd.DataFrame([df1_no_nans, df2_no_nans], index=[species[0], species[1]], columns=df1.columns.values)\n",
    "    \n",
    "    # OTHER STATISTICS\n",
    "    total_diffs = len([item for sublist in df1_no_nans for item in sublist])\n",
    "    percent_difference = total_diffs * (len1**(-1))\n",
    "    similarity = (1 - percent_difference)*100\n",
    "    \n",
    "    # MESSAGES\n",
    "    print \"ANALYSIS SUMMARY\\n\"\n",
    "    print \"Total Base Pair Differences Between\", \": \", total_diffs\n",
    "    print \"Perfect Similarity in Alignments: \", similarity, \"%\"\n",
    "    \n",
    "    if similarity > how_similar:\n",
    "        print \"According to your criteria of \", how_similar, \"% these two species are probably the same.\"\n",
    "    else:\n",
    "        print \"According to your criteria of \", how_similar, \"% these two species are probably NOT the same.\"\n",
    "    \n",
    "    # CLOSE THE DOOR BEFORE YOU LEAVE\n",
    "    alignment.close()\n",
    "    \n",
    "    # RETURN DATAFRAME\n",
    "    return(diff_df)"
   ]
  },
  {
   "cell_type": "code",
   "execution_count": 300,
   "metadata": {
    "collapsed": false
   },
   "outputs": [
    {
     "name": "stdout",
     "output_type": "stream",
     "text": [
      "ANALYSIS SUMMARY\n",
      "\n",
      "Total Base Pair Differences Between :  7\n",
      "Perfect Similarity in Alignments:  99.8582995951 %\n",
      "According to your criteria of  99.5 % these two species are probably the same.\n"
     ]
    },
    {
     "data": {
      "text/html": [
       "<div>\n",
       "<table border=\"1\" class=\"dataframe\">\n",
       "  <thead>\n",
       "    <tr style=\"text-align: right;\">\n",
       "      <th></th>\n",
       "      <th>a</th>\n",
       "      <th>t</th>\n",
       "      <th>c</th>\n",
       "      <th>g</th>\n",
       "      <th>-</th>\n",
       "      <th>?</th>\n",
       "    </tr>\n",
       "  </thead>\n",
       "  <tbody>\n",
       "    <tr>\n",
       "      <th>Calochlaena_dubia2</th>\n",
       "      <td>[1041.0, 412.0, 1268.0]</td>\n",
       "      <td>[625.0]</td>\n",
       "      <td>[74.0, 75.0, 952.0]</td>\n",
       "      <td>[]</td>\n",
       "      <td>[]</td>\n",
       "      <td>[]</td>\n",
       "    </tr>\n",
       "    <tr>\n",
       "      <th>Calochlaena_dubia</th>\n",
       "      <td>[952.0]</td>\n",
       "      <td>[412.0]</td>\n",
       "      <td>[1041.0]</td>\n",
       "      <td>[74.0, 625.0, 1268.0, 75.0]</td>\n",
       "      <td>[]</td>\n",
       "      <td>[]</td>\n",
       "    </tr>\n",
       "  </tbody>\n",
       "</table>\n",
       "</div>"
      ],
      "text/plain": [
       "                                          a        t                    c  \\\n",
       "Calochlaena_dubia2  [1041.0, 412.0, 1268.0]  [625.0]  [74.0, 75.0, 952.0]   \n",
       "Calochlaena_dubia                   [952.0]  [412.0]             [1041.0]   \n",
       "\n",
       "                                              g   -   ?  \n",
       "Calochlaena_dubia2                           []  []  []  \n",
       "Calochlaena_dubia   [74.0, 625.0, 1268.0, 75.0]  []  []  "
      ]
     },
     "execution_count": 300,
     "metadata": {},
     "output_type": "execute_result"
    }
   ],
   "source": [
    "# SAMPLE\n",
    "alignDiffs(\"/Users/EDIE/Box Sync/GitThings/biohazardCleanUp/alignmentDiffsTesting.txt\", 99.5)"
   ]
  },
  {
   "cell_type": "markdown",
   "metadata": {
    "collapsed": false
   },
   "source": [
    "Because these our two subjects were both <i>Calochlaena dubia</i>, this is exactly the result we would wish for. Of course, the choice of percent similarity is arbitrary. The question of how similar two subjects must be in order to be the same is a true piece of work. This is not the question I at all hope to answer with my functions.\n",
    "<br><br>\n",
    "I think these functions are useful in the sense that you know that you have an ingroup clade in your alignment file, and you only want one sample per species. This way, you can tell if they are the same, given they have a similar name. Use these functions as a double check what you think you know.\n",
    "\n",
    "## Future Work\n",
    "<ul>\n",
    "<li>Work for different alignment file types</li>\n",
    "<li>Work for more than two taxa</li>\n",
    "</ul>"
   ]
  }
 ],
 "metadata": {
  "kernelspec": {
   "display_name": "Python 2",
   "language": "python",
   "name": "python2"
  },
  "language_info": {
   "codemirror_mode": {
    "name": "ipython",
    "version": 2
   },
   "file_extension": ".py",
   "mimetype": "text/x-python",
   "name": "python",
   "nbconvert_exporter": "python",
   "pygments_lexer": "ipython2",
   "version": "2.7.13"
  }
 },
 "nbformat": 4,
 "nbformat_minor": 2
}
