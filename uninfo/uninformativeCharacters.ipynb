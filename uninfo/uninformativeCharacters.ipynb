{
 "cells": [
  {
   "cell_type": "markdown",
   "metadata": {},
   "source": [
    "# uninfo: Enumerating Uninformative Characters\n",
    "First Edition: 2017-04-01\n",
    "\n",
    "## Objectives\n",
    "<ul>\n",
    "<li>Count characters for a line of an alignment file</li>\n",
    "</ul>\n",
    "<br>\n",
    "This is a spin-off from the original alignDiffs function I made back in summer of 2016. I don't use character totals in this way for the new version of alignDiffs, but I thought this function may be useful in some circumstances."
   ]
  },
  {
   "cell_type": "code",
   "execution_count": 3,
   "metadata": {
    "collapsed": true
   },
   "outputs": [],
   "source": [
    "# LIBRARIES\n",
    "import os\n",
    "import pandas as pd"
   ]
  },
  {
   "cell_type": "code",
   "execution_count": 4,
   "metadata": {
    "collapsed": true
   },
   "outputs": [],
   "source": [
    "# UNINFORMATIVE CHARACTERS\n",
    "def uninfo(species):\n",
    "    '''\n",
    "    Input: One line of an alignment file (string)\n",
    "    Output: \n",
    "    '''\n",
    "    bases = list(\"atcg\")\n",
    "\n",
    "    # TOTAL\n",
    "    total = len([x for x in list(species) if x not in bases])\n",
    "    \n",
    "    # DASHES\n",
    "    dash = len([x for x in list(species) if x == \"-\"])\n",
    "    \n",
    "    # QUESTION MARKS\n",
    "    ques = len([x for x in list(species) if x == \"?\"])\n",
    "    \n",
    "    # CREATE DATAFRAME\n",
    "    names = [\"Dashes\", \"Question Marks\", \"Other\", \"Total\"]\n",
    "    df = pd.DataFrame([dash, ques, total-dash-ques, total], index=names, columns=[\"Totals\"])\n",
    "    \n",
    "    return(df)"
   ]
  },
  {
   "cell_type": "code",
   "execution_count": 5,
   "metadata": {
    "collapsed": false
   },
   "outputs": [
    {
     "name": "stdout",
     "output_type": "stream",
     "text": [
      "                Totals\n",
      "Dashes              21\n",
      "Question Marks     390\n",
      "Other                0\n",
      "Total              411\n"
     ]
    }
   ],
   "source": [
    "# TESTING\n",
    "samples = \"/Users/EDIE/Box Sync/GitThings/biohazardCleanUp/alignmentDiffsTesting.txt\"\n",
    "alignment = open(samples, \"r\")\n",
    "lines = alignment.readlines()\n",
    "species = lines[1]\n",
    "# species.split(\" \")[-1].strip()\n",
    "print uninfo(species.split(\" \")[-1].strip())\n",
    "alignment.close()"
   ]
  },
  {
   "cell_type": "markdown",
   "metadata": {},
   "source": [
    "## Future Work\n",
    "<ul>\n",
    "<li>This can be generalized to take in more than one line</li>\n",
    "<li>This can probably be used to make some biological conclusions -- conclusions of the type unbeknownst to me</li>\n",
    "</ul>"
   ]
  }
 ],
 "metadata": {
  "kernelspec": {
   "display_name": "Python 2",
   "language": "python",
   "name": "python2"
  },
  "language_info": {
   "codemirror_mode": {
    "name": "ipython",
    "version": 2
   },
   "file_extension": ".py",
   "mimetype": "text/x-python",
   "name": "python",
   "nbconvert_exporter": "python",
   "pygments_lexer": "ipython2",
   "version": "2.7.13"
  }
 },
 "nbformat": 4,
 "nbformat_minor": 2
}
