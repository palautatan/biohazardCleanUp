{
 "cells": [
  {
   "cell_type": "markdown",
   "metadata": {},
   "source": [
    "# os.listdir, no Hidden Files\n",
    "The following funtion will return files within a directory, but no hidden files. This function can be really useful when you're coding on a Mac."
   ]
  },
  {
   "cell_type": "code",
   "execution_count": 1,
   "metadata": {
    "collapsed": true
   },
   "outputs": [],
   "source": [
    "# REQUIREMENTS\n",
    "from os import listdir"
   ]
  },
  {
   "cell_type": "code",
   "execution_count": 4,
   "metadata": {
    "collapsed": false
   },
   "outputs": [],
   "source": [
    "# LISTDIR_NH FUNCTION\n",
    "def listdir_nh(path):\n",
    "    '''\n",
    "    Input: Path of directory (string)\n",
    "    Output: Non-hidden files within given directory (list of strings)\n",
    "    '''\n",
    "    files = listdir(path)\n",
    "    parsed = [file for file in files if not file.startswith(\".\")]\n",
    "    return parsed"
   ]
  },
  {
   "cell_type": "code",
   "execution_count": 5,
   "metadata": {
    "collapsed": false
   },
   "outputs": [
    {
     "data": {
      "text/plain": [
       "['sta141_hw1.py']"
      ]
     },
     "execution_count": 5,
     "metadata": {},
     "output_type": "execute_result"
    }
   ],
   "source": [
    "# TESTING\n",
    "listdir_nh(\"/Users/EDIE/Box Sync/Python Gigs\")"
   ]
  }
 ],
 "metadata": {
  "kernelspec": {
   "display_name": "Python 2",
   "language": "python",
   "name": "python2"
  },
  "language_info": {
   "codemirror_mode": {
    "name": "ipython",
    "version": 2
   },
   "file_extension": ".py",
   "mimetype": "text/x-python",
   "name": "python",
   "nbconvert_exporter": "python",
   "pygments_lexer": "ipython2",
   "version": "2.7.13"
  }
 },
 "nbformat": 4,
 "nbformat_minor": 2
}
